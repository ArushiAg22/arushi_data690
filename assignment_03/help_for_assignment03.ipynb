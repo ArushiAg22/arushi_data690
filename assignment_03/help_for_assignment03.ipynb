{
  "nbformat": 4,
  "nbformat_minor": 0,
  "metadata": {
    "colab": {
      "name": "help_for_assignment03.ipynb",
      "provenance": [],
      "authorship_tag": "ABX9TyO+oFqNeFbwpPyWd+dDAvGj",
      "include_colab_link": true
    },
    "kernelspec": {
      "name": "python3",
      "display_name": "Python 3"
    },
    "language_info": {
      "name": "python"
    }
  },
  "cells": [
    {
      "cell_type": "markdown",
      "metadata": {
        "id": "view-in-github",
        "colab_type": "text"
      },
      "source": [
        "<a href=\"https://colab.research.google.com/github/ArushiAg22/arushi_data690/blob/main/assignment_03/help_for_assignment03.ipynb\" target=\"_parent\"><img src=\"https://colab.research.google.com/assets/colab-badge.svg\" alt=\"Open In Colab\"/></a>"
      ]
    },
    {
      "cell_type": "code",
      "execution_count": 3,
      "metadata": {
        "colab": {
          "base_uri": "https://localhost:8080/"
        },
        "id": "iLcHu0Xgw4S5",
        "outputId": "837a3b05-9c4e-4444-e556-5e0bcae3782d"
      },
      "outputs": [
        {
          "output_type": "stream",
          "name": "stdout",
          "text": [
            "[2, 5, 12, 'Hey', 'Everyone']\n"
          ]
        }
      ],
      "source": [
        "x = [2, 5, 12, \"Hey\", \"Everyone\"]\n",
        "\n",
        "print(x)"
      ]
    },
    {
      "cell_type": "code",
      "source": [
        "\"5\" in x"
      ],
      "metadata": {
        "colab": {
          "base_uri": "https://localhost:8080/"
        },
        "id": "GOxJN92Nxl70",
        "outputId": "35578828-c1b3-4c96-8e63-2dabff182bab"
      },
      "execution_count": 8,
      "outputs": [
        {
          "output_type": "execute_result",
          "data": {
            "text/plain": [
              "False"
            ]
          },
          "metadata": {},
          "execution_count": 8
        }
      ]
    },
    {
      "cell_type": "code",
      "source": [
        "5 in x"
      ],
      "metadata": {
        "colab": {
          "base_uri": "https://localhost:8080/"
        },
        "id": "Pp7TdRa5x0Bv",
        "outputId": "0b4cf29b-d554-4521-882d-b9d5b1e9613c"
      },
      "execution_count": 7,
      "outputs": [
        {
          "output_type": "execute_result",
          "data": {
            "text/plain": [
              "True"
            ]
          },
          "metadata": {},
          "execution_count": 7
        }
      ]
    },
    {
      "cell_type": "code",
      "source": [
        "if 5 in x:\n",
        "    print(\"5 is a memeber of list x.\")\n",
        "else:\n",
        "    print(\"5 is not a member.\")"
      ],
      "metadata": {
        "colab": {
          "base_uri": "https://localhost:8080/"
        },
        "id": "0VfeAinPx7Vx",
        "outputId": "3b075742-d1e7-4cb3-aae0-20bab7a149a7"
      },
      "execution_count": 9,
      "outputs": [
        {
          "output_type": "stream",
          "name": "stdout",
          "text": [
            "5 is a memeber of list x.\n"
          ]
        }
      ]
    },
    {
      "cell_type": "code",
      "source": [
        "for a in x:\n",
        "    print(a)"
      ],
      "metadata": {
        "colab": {
          "base_uri": "https://localhost:8080/"
        },
        "id": "eFqrnHYeyqGP",
        "outputId": "dff2d942-401b-4ca8-fb9b-537b2a4cfe29"
      },
      "execution_count": 10,
      "outputs": [
        {
          "output_type": "stream",
          "name": "stdout",
          "text": [
            "2\n",
            "5\n",
            "12\n",
            "Hey\n",
            "Everyone\n"
          ]
        }
      ]
    },
    {
      "cell_type": "code",
      "source": [
        "y = [5, 1, 5, 6,2, 7, 8, 6, 4, 2]\n",
        "print(y)"
      ],
      "metadata": {
        "colab": {
          "base_uri": "https://localhost:8080/"
        },
        "id": "xUwBssVEy7n8",
        "outputId": "c135c13a-0124-42bd-e9b8-7227268a0d90"
      },
      "execution_count": 11,
      "outputs": [
        {
          "output_type": "stream",
          "name": "stdout",
          "text": [
            "[5, 1, 5, 6, 2, 7, 8, 6, 4, 2]\n"
          ]
        }
      ]
    },
    {
      "cell_type": "code",
      "source": [
        "for b in y:\n",
        "    print(b)"
      ],
      "metadata": {
        "colab": {
          "base_uri": "https://localhost:8080/"
        },
        "id": "3mgCsdctzDRZ",
        "outputId": "01e3e301-c4ff-40c5-9877-894a92ddae1d"
      },
      "execution_count": 12,
      "outputs": [
        {
          "output_type": "stream",
          "name": "stdout",
          "text": [
            "5\n",
            "1\n",
            "5\n",
            "6\n",
            "2\n",
            "7\n",
            "8\n",
            "6\n",
            "4\n",
            "2\n"
          ]
        }
      ]
    },
    {
      "cell_type": "code",
      "source": [
        "for b in y:\n",
        "    print(b, end= \" \")"
      ],
      "metadata": {
        "colab": {
          "base_uri": "https://localhost:8080/"
        },
        "id": "tdy_xsJLzPjz",
        "outputId": "b256f2c4-b8a2-444e-f8c5-b84319d6b86e"
      },
      "execution_count": 13,
      "outputs": [
        {
          "output_type": "stream",
          "name": "stdout",
          "text": [
            "5 1 5 6 2 7 8 6 4 2 "
          ]
        }
      ]
    },
    {
      "cell_type": "code",
      "source": [
        "for b in y:\n",
        "    print(b, end= \" * \")"
      ],
      "metadata": {
        "colab": {
          "base_uri": "https://localhost:8080/"
        },
        "id": "SIf5_n89zmvs",
        "outputId": "7549c0b1-04fe-44e2-fe23-ccd9f1b2a337"
      },
      "execution_count": 14,
      "outputs": [
        {
          "output_type": "stream",
          "name": "stdout",
          "text": [
            "5 * 1 * 5 * 6 * 2 * 7 * 8 * 6 * 4 * 2 * "
          ]
        }
      ]
    },
    {
      "cell_type": "code",
      "source": [
        "import random"
      ],
      "metadata": {
        "id": "By9d5LVxzulB"
      },
      "execution_count": 15,
      "outputs": []
    },
    {
      "cell_type": "code",
      "source": [
        "random.randint(2,10)"
      ],
      "metadata": {
        "colab": {
          "base_uri": "https://localhost:8080/"
        },
        "id": "vKbSA9kUz4PS",
        "outputId": "c03470f4-6cdf-41f5-eb85-d8fd05e523a8"
      },
      "execution_count": 27,
      "outputs": [
        {
          "output_type": "execute_result",
          "data": {
            "text/plain": [
              "8"
            ]
          },
          "metadata": {},
          "execution_count": 27
        }
      ]
    },
    {
      "cell_type": "code",
      "source": [
        "random.randint(0, 9)"
      ],
      "metadata": {
        "colab": {
          "base_uri": "https://localhost:8080/"
        },
        "id": "7w5x3DMB0VeC",
        "outputId": "afd0d0bf-56f6-404c-edd5-5256d8a73522"
      },
      "execution_count": 24,
      "outputs": [
        {
          "output_type": "execute_result",
          "data": {
            "text/plain": [
              "5"
            ]
          },
          "metadata": {},
          "execution_count": 24
        }
      ]
    },
    {
      "cell_type": "code",
      "source": [
        "for i in range(0, 10):\n",
        "    print(random.randint(0, 9), end= ' ')"
      ],
      "metadata": {
        "colab": {
          "base_uri": "https://localhost:8080/"
        },
        "id": "RVvgUljL0gyX",
        "outputId": "3a7d22e4-93f4-4374-c668-f2a655bd0954"
      },
      "execution_count": 35,
      "outputs": [
        {
          "output_type": "stream",
          "name": "stdout",
          "text": [
            "4 3 8 3 3 4 4 7 8 8 "
          ]
        }
      ]
    },
    {
      "cell_type": "code",
      "source": [
        "for i in range(10):\n",
        "    for a in range(10):\n",
        "        print(random.randint(0, 9), end= ' ')\n",
        "    print(\"\")     # or we can write print()"
      ],
      "metadata": {
        "colab": {
          "base_uri": "https://localhost:8080/"
        },
        "id": "JxV8_piC1SBg",
        "outputId": "ee8f973e-a832-4f21-faac-218c529473fa"
      },
      "execution_count": 41,
      "outputs": [
        {
          "output_type": "stream",
          "name": "stdout",
          "text": [
            "7 4 7 5 9 7 0 0 8 3 \n",
            "6 5 4 5 5 4 8 8 7 6 \n",
            "2 3 9 1 4 4 3 8 7 3 \n",
            "8 7 9 0 3 0 0 6 4 2 \n",
            "6 0 4 8 3 8 9 8 6 1 \n",
            "9 3 3 1 1 8 4 0 1 3 \n",
            "3 4 5 6 8 8 1 7 2 9 \n",
            "3 4 9 9 8 6 0 2 4 4 \n",
            "4 1 3 5 5 7 8 8 4 1 \n",
            "6 9 2 4 6 2 8 4 9 3 \n"
          ]
        }
      ]
    }
  ]
}