{
  "nbformat": 4,
  "nbformat_minor": 0,
  "metadata": {
    "colab": {
      "name": "hw02_note.ipynb",
      "provenance": [],
      "authorship_tag": "ABX9TyNILSqwXr0zDT/drBmFxGqa",
      "include_colab_link": true
    },
    "kernelspec": {
      "name": "python3",
      "display_name": "Python 3"
    },
    "language_info": {
      "name": "python"
    }
  },
  "cells": [
    {
      "cell_type": "markdown",
      "metadata": {
        "id": "view-in-github",
        "colab_type": "text"
      },
      "source": [
        "<a href=\"https://colab.research.google.com/github/ArushiAg22/arushi_data690/blob/main/assignment_03/hw02_note.ipynb\" target=\"_parent\"><img src=\"https://colab.research.google.com/assets/colab-badge.svg\" alt=\"Open In Colab\"/></a>"
      ]
    },
    {
      "cell_type": "markdown",
      "source": [
        "# Assignment_03 In-class Practice\n",
        "\n",
        "- **Name**: Arushi Agarwal\n",
        "- **Date**: 02/14/2022"
      ],
      "metadata": {
        "id": "ihmxJ_iX5G8z"
      }
    },
    {
      "cell_type": "code",
      "source": [
        "def min(numbers):\n",
        "    min = numbers[0]\n",
        "\n",
        "    for num in numbers:\n",
        "        if min > num:\n",
        "            min = num\n",
        "\n",
        "    return min"
      ],
      "metadata": {
        "id": "q44PKPkq5JOn"
      },
      "execution_count": 9,
      "outputs": []
    },
    {
      "cell_type": "code",
      "source": [
        "min([1, 4, 2, 5, 7])"
      ],
      "metadata": {
        "colab": {
          "base_uri": "https://localhost:8080/"
        },
        "id": "FyPDNFjs8U9D",
        "outputId": "0ab2dc90-5506-4620-af85-581ce7846dbf"
      },
      "execution_count": 10,
      "outputs": [
        {
          "output_type": "execute_result",
          "data": {
            "text/plain": [
              "1"
            ]
          },
          "metadata": {},
          "execution_count": 10
        }
      ]
    },
    {
      "cell_type": "code",
      "source": [
        "def max(numbers):\n",
        "    max = numbers[0]\n",
        "\n",
        "    for num in numbers:\n",
        "        if max < num:\n",
        "            max = num\n",
        "\n",
        "    return max"
      ],
      "metadata": {
        "id": "eLAr1ZCP8bL5"
      },
      "execution_count": 11,
      "outputs": []
    },
    {
      "cell_type": "code",
      "source": [
        "max([1, 4, 2, 5, 7])"
      ],
      "metadata": {
        "colab": {
          "base_uri": "https://localhost:8080/"
        },
        "id": "xDOLeijS8jba",
        "outputId": "2237e3a6-e07b-4cd0-c0ca-caa45084850d"
      },
      "execution_count": 12,
      "outputs": [
        {
          "output_type": "execute_result",
          "data": {
            "text/plain": [
              "7"
            ]
          },
          "metadata": {},
          "execution_count": 12
        }
      ]
    }
  ]
}