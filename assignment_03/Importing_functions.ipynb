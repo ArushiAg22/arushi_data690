{
  "nbformat": 4,
  "nbformat_minor": 0,
  "metadata": {
    "colab": {
      "name": "Importing_functions.ipynb",
      "provenance": [],
      "authorship_tag": "ABX9TyM402f5MxPwB6M84uhtiWGB",
      "include_colab_link": true
    },
    "kernelspec": {
      "name": "python3",
      "display_name": "Python 3"
    },
    "language_info": {
      "name": "python"
    }
  },
  "cells": [
    {
      "cell_type": "markdown",
      "metadata": {
        "id": "view-in-github",
        "colab_type": "text"
      },
      "source": [
        "<a href=\"https://colab.research.google.com/github/ArushiAg22/arushi_data690/blob/main/assignment_03/Importing_functions.ipynb\" target=\"_parent\"><img src=\"https://colab.research.google.com/assets/colab-badge.svg\" alt=\"Open In Colab\"/></a>"
      ]
    },
    {
      "cell_type": "markdown",
      "source": [
        "# In-Class Practice\n",
        "\n",
        "Importing python custom developed modules."
      ],
      "metadata": {
        "id": "_hAklWKaB1AN"
      }
    },
    {
      "cell_type": "code",
      "source": [
        "import myfunction"
      ],
      "metadata": {
        "id": "iRa14X7OB-NO"
      },
      "execution_count": 4,
      "outputs": []
    },
    {
      "cell_type": "code",
      "source": [
        "x = myfunction.min([3, 4, 5, 6, 7, 8])\n",
        "print(x)"
      ],
      "metadata": {
        "colab": {
          "base_uri": "https://localhost:8080/"
        },
        "id": "rntWUW1yCVZb",
        "outputId": "c98463ba-6d84-448f-b929-b123c16ca242"
      },
      "execution_count": 5,
      "outputs": [
        {
          "output_type": "stream",
          "name": "stdout",
          "text": [
            "3\n"
          ]
        }
      ]
    },
    {
      "cell_type": "code",
      "source": [
        "y = myfunction.max([3, 4, 5, 6, 7, 8])\n",
        "print(y)"
      ],
      "metadata": {
        "colab": {
          "base_uri": "https://localhost:8080/"
        },
        "id": "MR6OmwGoDAZh",
        "outputId": "b92daf49-64c6-4ebe-f857-0e4d6dbd519f"
      },
      "execution_count": 6,
      "outputs": [
        {
          "output_type": "stream",
          "name": "stdout",
          "text": [
            "8\n"
          ]
        }
      ]
    }
  ]
}