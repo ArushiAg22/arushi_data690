{
  "nbformat": 4,
  "nbformat_minor": 0,
  "metadata": {
    "colab": {
      "name": "Assignment_03.ipynb",
      "provenance": [],
      "authorship_tag": "ABX9TyMUwXGnZYFMLk/35kbVL72F",
      "include_colab_link": true
    },
    "kernelspec": {
      "name": "python3",
      "display_name": "Python 3"
    },
    "language_info": {
      "name": "python"
    }
  },
  "cells": [
    {
      "cell_type": "markdown",
      "metadata": {
        "id": "view-in-github",
        "colab_type": "text"
      },
      "source": [
        "<a href=\"https://colab.research.google.com/github/ArushiAg22/arushi_data690/blob/main/assignment_03/Assignment_03.ipynb\" target=\"_parent\"><img src=\"https://colab.research.google.com/assets/colab-badge.svg\" alt=\"Open In Colab\"/></a>"
      ]
    },
    {
      "cell_type": "markdown",
      "source": [
        "# **Assignment 03**\n",
        "\n",
        "#### **Program that generates 100 random integers between 0 and 9.**"
      ],
      "metadata": {
        "id": "476wxcmntLWr"
      }
    },
    {
      "cell_type": "code",
      "source": [
        "import random\n",
        "n = 10"
      ],
      "metadata": {
        "id": "gJV7tEl3uuKO"
      },
      "execution_count": 1,
      "outputs": []
    },
    {
      "cell_type": "markdown",
      "source": [
        "##### **1. Print them in a 10 by 10 matrix neatly arranged with one space between each number:**"
      ],
      "metadata": {
        "id": "_zubiMjnthrF"
      }
    },
    {
      "cell_type": "code",
      "source": [
        "for row in range(n):                         # loop for 10 rows in a matrix\n",
        "    for col in range(n):                     # loop for 10 columns in a matrix\n",
        "        num = random.randint(0, 9)           # funtion to generate random number\n",
        "        print(num, end= ' ')\n",
        "    print(\"\")"
      ],
      "metadata": {
        "colab": {
          "base_uri": "https://localhost:8080/"
        },
        "id": "j1BP07qZujq5",
        "outputId": "7bdfb510-34a8-4c8b-ee33-5f4235c18f94"
      },
      "execution_count": 2,
      "outputs": [
        {
          "output_type": "stream",
          "name": "stdout",
          "text": [
            "0 1 0 4 9 0 6 8 9 9 \n",
            "8 6 8 3 6 8 9 6 4 5 \n",
            "8 2 2 3 1 0 4 3 9 4 \n",
            "8 7 5 5 2 8 8 6 0 3 \n",
            "3 6 2 6 8 9 2 8 5 9 \n",
            "9 2 5 3 8 1 2 7 4 6 \n",
            "4 1 2 8 3 2 0 3 9 1 \n",
            "2 6 0 6 8 1 2 9 2 7 \n",
            "8 5 3 4 6 1 8 1 8 5 \n",
            "0 6 2 1 3 0 2 3 9 2 \n"
          ]
        }
      ]
    },
    {
      "cell_type": "markdown",
      "source": [
        "##### **2. If the random number is an odd number, print \"@\" instead:**"
      ],
      "metadata": {
        "id": "IiLuV8NDv3UL"
      }
    },
    {
      "cell_type": "code",
      "source": [
        "for row in range(n):                         # loop for 10 rows in a matrix\n",
        "    for col in range(n):                     # loop for 10 columns in a matrix\n",
        "        num = random.randint(0, 9)           # funtion to generate random number\n",
        "        if num % 2 != 0:                     # to check if number is even or odd\n",
        "            print(\"@\", end= ' ')\n",
        "        else:\n",
        "            print(num, end= ' ')\n",
        "    print(\"\")"
      ],
      "metadata": {
        "colab": {
          "base_uri": "https://localhost:8080/"
        },
        "id": "aBiaRfDCwGR6",
        "outputId": "5ac53d2b-a35b-45a2-9cc0-308a89dc66de"
      },
      "execution_count": 3,
      "outputs": [
        {
          "output_type": "stream",
          "name": "stdout",
          "text": [
            "@ @ 8 6 @ @ @ 0 @ 8 \n",
            "8 @ 4 @ @ 0 @ @ @ @ \n",
            "6 6 @ 4 @ @ 8 8 @ @ \n",
            "@ @ @ 6 4 8 2 2 6 @ \n",
            "@ 4 @ @ 2 @ 8 @ @ 8 \n",
            "0 6 6 6 @ 0 8 6 6 @ \n",
            "6 6 6 6 0 @ 0 8 @ 2 \n",
            "8 @ 8 2 6 @ 2 8 @ 4 \n",
            "@ 8 6 @ 2 @ @ @ @ 2 \n",
            "@ @ 2 6 @ 2 4 @ @ 4 \n"
          ]
        }
      ]
    },
    {
      "cell_type": "markdown",
      "source": [
        "##### **3. Calculate and Print the total of each row and use \"*\" to separate the total from the numbers:**"
      ],
      "metadata": {
        "id": "U2MhpqegwvrG"
      }
    },
    {
      "cell_type": "code",
      "source": [
        "sum = 0\n",
        "\n",
        "for row in range(n):                         # loop for 10 rows in a matrix\n",
        "    for col in range(n):                     # loop for 10 columns in a matrix\n",
        "        num = random.randint(0, 9)           # funtion to generate random number\n",
        "        sum = sum + num                      # to get sum of each row\n",
        "        print(num, end= ' ')\n",
        "    print(\"*\", sum, end=' ')\n",
        "    sum = 0\n",
        "    print(\"\")"
      ],
      "metadata": {
        "colab": {
          "base_uri": "https://localhost:8080/"
        },
        "id": "AoM1JJqdw-oB",
        "outputId": "c8606880-8c0f-44b7-8090-57564cc75b69"
      },
      "execution_count": 4,
      "outputs": [
        {
          "output_type": "stream",
          "name": "stdout",
          "text": [
            "3 9 8 7 7 9 3 2 2 0 * 50 \n",
            "3 3 7 1 9 2 0 2 6 0 * 33 \n",
            "1 5 3 5 4 9 7 7 1 6 * 48 \n",
            "5 5 7 1 9 4 6 3 9 5 * 54 \n",
            "1 1 1 2 6 0 8 0 3 6 * 28 \n",
            "4 1 6 7 4 8 4 7 5 8 * 54 \n",
            "5 4 9 7 6 8 2 7 9 5 * 62 \n",
            "4 3 8 2 3 8 4 8 8 3 * 51 \n",
            "6 0 0 5 7 5 2 6 9 6 * 46 \n",
            "3 0 6 9 7 7 0 7 8 4 * 51 \n"
          ]
        }
      ]
    },
    {
      "cell_type": "markdown",
      "source": [
        "##### **4. Surround the matrix with asterisks (*):**"
      ],
      "metadata": {
        "id": "kzLOG6CFynUH"
      }
    },
    {
      "cell_type": "code",
      "source": [
        "# number of asterisks to be printed for 10 numbers is 23\n",
        "# (10 numbers + 2 asterisks + 11 spaces between all of them)\n",
        "ast = 2 * n + 3\n",
        "\n",
        "for a in range(ast):                        # loop to print asterisks before matrix\n",
        "    print(\"*\", end= '')\n",
        "print(\"\")\n",
        "\n",
        "for row in range(n):                        # loop for 10 rows in a matrix\n",
        "    print(\"*\", end= ' ')\n",
        "    for col in range(n):                    # loop for 10 columns in a matrix\n",
        "        num = random.randint(0, 9)          # funtion to generate random number\n",
        "        print(num, end= ' ')\n",
        "    print(\"*\")\n",
        "\n",
        "for b in range(ast):                        # loop to print asterisks after matrix\n",
        "    print(\"*\", end= '')"
      ],
      "metadata": {
        "colab": {
          "base_uri": "https://localhost:8080/"
        },
        "id": "d_ORwJyV_LZN",
        "outputId": "3c0f2741-d1f8-4235-afed-ce27ca91fd75"
      },
      "execution_count": 5,
      "outputs": [
        {
          "output_type": "stream",
          "name": "stdout",
          "text": [
            "***********************\n",
            "* 1 7 8 3 8 5 8 1 7 0 *\n",
            "* 2 6 8 6 3 9 8 8 4 9 *\n",
            "* 5 0 3 2 1 2 8 7 2 8 *\n",
            "* 4 4 4 8 4 2 6 6 5 9 *\n",
            "* 9 4 2 8 7 2 6 0 3 6 *\n",
            "* 2 2 0 7 1 0 7 3 6 8 *\n",
            "* 2 0 8 4 0 8 6 3 8 5 *\n",
            "* 2 6 0 6 8 2 0 9 3 1 *\n",
            "* 1 4 1 8 9 3 4 8 8 0 *\n",
            "* 8 2 0 9 7 2 7 2 8 1 *\n",
            "***********************"
          ]
        }
      ]
    },
    {
      "cell_type": "markdown",
      "source": [
        "##### **5. Calculate and Print the total of each row and column with asterisk to separate the total from matrix:**"
      ],
      "metadata": {
        "id": "yhiETuLyCt3z"
      }
    },
    {
      "cell_type": "code",
      "source": [
        "sum = 0\n",
        "row_sum = [0] * n                            # to initialize a list with n elements\n",
        "\n",
        "for row in range(n):                         # loop for 10 rows in a matrix\n",
        "    for col in range(n):                     # loop for 10 columns in a matrix\n",
        "        num = random.randint(0, 9)           # funtion to generate random number\n",
        "        sum = sum + num                      # to get sum of each row\n",
        "        row_sum[col] = row_sum[col] + num\n",
        "        print(num, end= '  ')\n",
        "    print(\"*\", sum, end=' ')\n",
        "    sum = 0\n",
        "    print(\"\")\n",
        "\n",
        "for a in range(n):                           # loop to print asterisks after matrix \n",
        "    print(\"*\", end='  ')\n",
        "print(\"\")\n",
        "\n",
        "for b in range(len(row_sum)):                # loop to print sum of each column\n",
        "    print(row_sum[b], end= ' ')"
      ],
      "metadata": {
        "colab": {
          "base_uri": "https://localhost:8080/"
        },
        "id": "5GO-B2_LVdZQ",
        "outputId": "eba33af9-e5c0-4cae-c436-ddd7cea257b7"
      },
      "execution_count": 6,
      "outputs": [
        {
          "output_type": "stream",
          "name": "stdout",
          "text": [
            "3  1  4  6  5  4  1  5  9  2  * 40 \n",
            "1  1  8  3  6  1  1  3  1  1  * 26 \n",
            "8  5  0  4  1  2  6  8  9  5  * 48 \n",
            "0  9  0  4  2  7  9  3  5  2  * 41 \n",
            "3  3  1  5  9  6  8  9  1  8  * 53 \n",
            "4  4  1  7  9  9  7  2  7  6  * 56 \n",
            "3  7  5  8  4  8  0  7  4  4  * 50 \n",
            "8  5  3  8  5  6  7  9  4  8  * 63 \n",
            "3  3  3  1  3  7  8  8  0  2  * 38 \n",
            "6  6  2  6  8  8  2  9  5  0  * 52 \n",
            "*  *  *  *  *  *  *  *  *  *  \n",
            "39 44 27 52 52 58 49 63 45 38 "
          ]
        }
      ]
    }
  ]
}