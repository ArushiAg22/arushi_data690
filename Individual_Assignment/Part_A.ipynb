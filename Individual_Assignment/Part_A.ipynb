{
  "nbformat": 4,
  "nbformat_minor": 0,
  "metadata": {
    "colab": {
      "name": "Untitled7.ipynb",
      "provenance": [],
      "authorship_tag": "ABX9TyOs2TaeulXDE+mOatOt7PSq",
      "include_colab_link": true
    },
    "kernelspec": {
      "name": "python3",
      "display_name": "Python 3"
    },
    "language_info": {
      "name": "python"
    }
  },
  "cells": [
    {
      "cell_type": "markdown",
      "metadata": {
        "id": "view-in-github",
        "colab_type": "text"
      },
      "source": [
        "<a href=\"https://colab.research.google.com/github/ArushiAg22/arushi_data690/blob/main/Individual_Assignment/Part_A.ipynb\" target=\"_parent\"><img src=\"https://colab.research.google.com/assets/colab-badge.svg\" alt=\"Open In Colab\"/></a>"
      ]
    },
    {
      "cell_type": "markdown",
      "source": [
        "# **A Prespective On Gender Inequality From 2014 to 2019**\n",
        "\n",
        "##### -Arushi Agarwal\n",
        "###### March 12, 2022"
      ],
      "metadata": {
        "id": "twpaOyzhfyEx"
      }
    },
    {
      "cell_type": "markdown",
      "source": [
        "The history of gender inequality has been there since ages. Although the developed countries have overcome such issues drastically in past decades and started making improvements by instituting the policies which can safegaurd females rights. "
      ],
      "metadata": {
        "id": "JojoAM37gRwN"
      }
    },
    {
      "cell_type": "markdown",
      "source": [
        ""
      ],
      "metadata": {
        "id": "KyopSMPrg2lF"
      }
    },
    {
      "cell_type": "markdown",
      "source": [
        ""
      ],
      "metadata": {
        "id": "B3buhcoggnJf"
      }
    }
  ]
}