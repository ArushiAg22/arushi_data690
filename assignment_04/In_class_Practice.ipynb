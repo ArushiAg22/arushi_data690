{
  "nbformat": 4,
  "nbformat_minor": 0,
  "metadata": {
    "colab": {
      "name": "In-class_Practice.ipynb",
      "provenance": [],
      "authorship_tag": "ABX9TyPhMk/CYu4zS6b5ouCK1Agw",
      "include_colab_link": true
    },
    "kernelspec": {
      "name": "python3",
      "display_name": "Python 3"
    },
    "language_info": {
      "name": "python"
    }
  },
  "cells": [
    {
      "cell_type": "markdown",
      "metadata": {
        "id": "view-in-github",
        "colab_type": "text"
      },
      "source": [
        "<a href=\"https://colab.research.google.com/github/ArushiAg22/arushi_data690/blob/main/assignment_04/In_class_Practice.ipynb\" target=\"_parent\"><img src=\"https://colab.research.google.com/assets/colab-badge.svg\" alt=\"Open In Colab\"/></a>"
      ]
    },
    {
      "cell_type": "markdown",
      "source": [
        "# In Class Practice 04\n",
        "\n",
        "- **Name**: Arushi Agarwal\n",
        "- **Date**: 02/21/2022\n"
      ],
      "metadata": {
        "id": "k_Zs8MVA0dcy"
      }
    },
    {
      "cell_type": "code",
      "source": [
        "import random\n",
        "import re\n",
        "for i in range(0,10):\n",
        "    print(end=\"\\n \")\n",
        "    for j in range(0,10):\n",
        "        num=random.randint(0,9)\n",
        "        if (num % 2) == 0:\n",
        "            print(num, end=\" \")\n",
        "        else:\n",
        "            strnum = str(num)\n",
        "            strnum=strnum.replace(strnum,\"@\")\n",
        "            print(strnum, end=\" \")"
      ],
      "metadata": {
        "colab": {
          "base_uri": "https://localhost:8080/"
        },
        "id": "Nj1NKhen00xE",
        "outputId": "d2789a78-dfd4-48dd-c9b3-2d312bd51f76"
      },
      "execution_count": 2,
      "outputs": [
        {
          "output_type": "stream",
          "name": "stdout",
          "text": [
            "\n",
            " @ 8 6 4 @ @ @ 6 6 4 \n",
            " 8 2 @ @ 6 @ @ @ 4 6 \n",
            " 0 @ 8 4 @ @ @ 0 0 8 \n",
            " 8 8 2 @ 8 2 @ @ 8 @ \n",
            " 8 @ @ 2 @ @ @ @ 2 8 \n",
            " 4 8 @ 6 2 6 2 @ 2 @ \n",
            " @ @ 2 @ 0 @ @ 6 @ 0 \n",
            " @ @ 4 8 8 @ 4 @ @ 8 \n",
            " 8 @ 8 @ @ 0 0 @ 0 @ \n",
            " @ 6 8 @ 4 @ 8 2 @ @ "
          ]
        }
      ]
    },
    {
      "cell_type": "code",
      "source": [
        "x = \"Hello, Woprld!\"\n",
        "\n",
        "print(x)"
      ],
      "metadata": {
        "colab": {
          "base_uri": "https://localhost:8080/"
        },
        "id": "VPxwYIHx1E9o",
        "outputId": "3eb911c7-f3fb-4817-ee79-2b321997c88d"
      },
      "execution_count": 16,
      "outputs": [
        {
          "output_type": "stream",
          "name": "stdout",
          "text": [
            "Hello, Woprld!\n"
          ]
        }
      ]
    },
    {
      "cell_type": "code",
      "source": [
        "x = x.replace('p', \"\")\n",
        "\n",
        "print(x)"
      ],
      "metadata": {
        "colab": {
          "base_uri": "https://localhost:8080/"
        },
        "id": "vOuzcc5f1Kft",
        "outputId": "0009331d-9d42-4b3c-fd20-4a8cb6405790"
      },
      "execution_count": 17,
      "outputs": [
        {
          "output_type": "stream",
          "name": "stdout",
          "text": [
            "Hello, World!\n"
          ]
        }
      ]
    },
    {
      "cell_type": "code",
      "source": [
        "x = x.replace(\"Hello\", \"Hi\")\n",
        "\n",
        "print(x)"
      ],
      "metadata": {
        "colab": {
          "base_uri": "https://localhost:8080/"
        },
        "id": "7jaR_4Fa1a32",
        "outputId": "544494d0-bece-4b46-8f8c-fc170bc5451d"
      },
      "execution_count": 18,
      "outputs": [
        {
          "output_type": "stream",
          "name": "stdout",
          "text": [
            "Hi, World!\n"
          ]
        }
      ]
    },
    {
      "cell_type": "code",
      "source": [
        "x = x.replace('w', \"W\")\n",
        "\n",
        "print(x)"
      ],
      "metadata": {
        "colab": {
          "base_uri": "https://localhost:8080/"
        },
        "id": "FDAKsa9T18ZS",
        "outputId": "fac06048-9dbe-453e-f5c7-fe8f70727be6"
      },
      "execution_count": 19,
      "outputs": [
        {
          "output_type": "stream",
          "name": "stdout",
          "text": [
            "Hi, World!\n"
          ]
        }
      ]
    },
    {
      "cell_type": "code",
      "source": [
        "x = x.upper()\n",
        "\n",
        "print(x)"
      ],
      "metadata": {
        "colab": {
          "base_uri": "https://localhost:8080/"
        },
        "id": "28GgwTzU2R0z",
        "outputId": "301cfc96-88e6-46ee-85c8-6d7cd5a7a2cf"
      },
      "execution_count": 21,
      "outputs": [
        {
          "output_type": "stream",
          "name": "stdout",
          "text": [
            "HI, WORLD!\n"
          ]
        }
      ]
    },
    {
      "cell_type": "code",
      "source": [
        "x = x.lower()\n",
        "\n",
        "print(x)"
      ],
      "metadata": {
        "colab": {
          "base_uri": "https://localhost:8080/"
        },
        "id": "iBli_oil2cPn",
        "outputId": "27227f8a-f105-4a04-c927-bca626fbc2b0"
      },
      "execution_count": 22,
      "outputs": [
        {
          "output_type": "stream",
          "name": "stdout",
          "text": [
            "hi, world!\n"
          ]
        }
      ]
    },
    {
      "cell_type": "markdown",
      "source": [
        "# String functions/methods/operations\n",
        "\n",
        "- upper()\n",
        "- lower()\n",
        "- replace()\n",
        "- strip()\n",
        "- lstrip()\n",
        "- rstrip()"
      ],
      "metadata": {
        "id": "FJeUZJfa2rpK"
      }
    },
    {
      "cell_type": "code",
      "source": [
        "# generate 100 number first\n",
        "numbers=[]          # This list is to hold 100 random numbers\n",
        "for i in range(100):\n",
        "    numbers.append(random.randint(0, 9))\n",
        "\n",
        "print(numbers)\n",
        "print(len(numbers))"
      ],
      "metadata": {
        "colab": {
          "base_uri": "https://localhost:8080/"
        },
        "id": "I6EpwDfc5oa6",
        "outputId": "3f0db444-094a-4f8b-9b79-daf6bce0d9cc"
      },
      "execution_count": 23,
      "outputs": [
        {
          "output_type": "stream",
          "name": "stdout",
          "text": [
            "[1, 3, 4, 5, 0, 9, 2, 1, 4, 0, 2, 6, 5, 9, 8, 0, 7, 4, 3, 5, 5, 4, 3, 8, 0, 6, 8, 6, 5, 0, 5, 9, 6, 4, 6, 4, 1, 2, 7, 1, 8, 2, 4, 7, 9, 1, 4, 2, 6, 5, 0, 8, 9, 3, 2, 4, 9, 5, 6, 2, 5, 5, 0, 3, 3, 7, 6, 8, 7, 5, 5, 7, 2, 7, 8, 9, 5, 9, 7, 4, 4, 3, 3, 5, 4, 7, 0, 8, 3, 2, 4, 6, 3, 9, 1, 1, 5, 7, 7, 1]\n",
            "100\n"
          ]
        }
      ]
    },
    {
      "cell_type": "code",
      "source": [
        "for i in range(0,100,1):\n",
        "    print(\"index = \", i, \"members = \", numbers[i])"
      ],
      "metadata": {
        "colab": {
          "base_uri": "https://localhost:8080/"
        },
        "id": "JFnKTfx45T5d",
        "outputId": "a122f062-2ab1-4136-8103-c9a04f180e72"
      },
      "execution_count": 24,
      "outputs": [
        {
          "output_type": "stream",
          "name": "stdout",
          "text": [
            "index =  0 members =  1\n",
            "index =  1 members =  3\n",
            "index =  2 members =  4\n",
            "index =  3 members =  5\n",
            "index =  4 members =  0\n",
            "index =  5 members =  9\n",
            "index =  6 members =  2\n",
            "index =  7 members =  1\n",
            "index =  8 members =  4\n",
            "index =  9 members =  0\n",
            "index =  10 members =  2\n",
            "index =  11 members =  6\n",
            "index =  12 members =  5\n",
            "index =  13 members =  9\n",
            "index =  14 members =  8\n",
            "index =  15 members =  0\n",
            "index =  16 members =  7\n",
            "index =  17 members =  4\n",
            "index =  18 members =  3\n",
            "index =  19 members =  5\n",
            "index =  20 members =  5\n",
            "index =  21 members =  4\n",
            "index =  22 members =  3\n",
            "index =  23 members =  8\n",
            "index =  24 members =  0\n",
            "index =  25 members =  6\n",
            "index =  26 members =  8\n",
            "index =  27 members =  6\n",
            "index =  28 members =  5\n",
            "index =  29 members =  0\n",
            "index =  30 members =  5\n",
            "index =  31 members =  9\n",
            "index =  32 members =  6\n",
            "index =  33 members =  4\n",
            "index =  34 members =  6\n",
            "index =  35 members =  4\n",
            "index =  36 members =  1\n",
            "index =  37 members =  2\n",
            "index =  38 members =  7\n",
            "index =  39 members =  1\n",
            "index =  40 members =  8\n",
            "index =  41 members =  2\n",
            "index =  42 members =  4\n",
            "index =  43 members =  7\n",
            "index =  44 members =  9\n",
            "index =  45 members =  1\n",
            "index =  46 members =  4\n",
            "index =  47 members =  2\n",
            "index =  48 members =  6\n",
            "index =  49 members =  5\n",
            "index =  50 members =  0\n",
            "index =  51 members =  8\n",
            "index =  52 members =  9\n",
            "index =  53 members =  3\n",
            "index =  54 members =  2\n",
            "index =  55 members =  4\n",
            "index =  56 members =  9\n",
            "index =  57 members =  5\n",
            "index =  58 members =  6\n",
            "index =  59 members =  2\n",
            "index =  60 members =  5\n",
            "index =  61 members =  5\n",
            "index =  62 members =  0\n",
            "index =  63 members =  3\n",
            "index =  64 members =  3\n",
            "index =  65 members =  7\n",
            "index =  66 members =  6\n",
            "index =  67 members =  8\n",
            "index =  68 members =  7\n",
            "index =  69 members =  5\n",
            "index =  70 members =  5\n",
            "index =  71 members =  7\n",
            "index =  72 members =  2\n",
            "index =  73 members =  7\n",
            "index =  74 members =  8\n",
            "index =  75 members =  9\n",
            "index =  76 members =  5\n",
            "index =  77 members =  9\n",
            "index =  78 members =  7\n",
            "index =  79 members =  4\n",
            "index =  80 members =  4\n",
            "index =  81 members =  3\n",
            "index =  82 members =  3\n",
            "index =  83 members =  5\n",
            "index =  84 members =  4\n",
            "index =  85 members =  7\n",
            "index =  86 members =  0\n",
            "index =  87 members =  8\n",
            "index =  88 members =  3\n",
            "index =  89 members =  2\n",
            "index =  90 members =  4\n",
            "index =  91 members =  6\n",
            "index =  92 members =  3\n",
            "index =  93 members =  9\n",
            "index =  94 members =  1\n",
            "index =  95 members =  1\n",
            "index =  96 members =  5\n",
            "index =  97 members =  7\n",
            "index =  98 members =  7\n",
            "index =  99 members =  1\n"
          ]
        }
      ]
    },
    {
      "cell_type": "code",
      "source": [
        "count=0\n",
        "\n",
        "for i in range(10):\n",
        "    for j in range(10):\n",
        "        print(numbers[count],\" \", end =\" \")\n",
        "        count+=1\n",
        "    print(\"\\n\")"
      ],
      "metadata": {
        "colab": {
          "base_uri": "https://localhost:8080/"
        },
        "id": "jVb8YLgV53LC",
        "outputId": "75419cf5-2890-4433-9097-644fba9aec22"
      },
      "execution_count": 25,
      "outputs": [
        {
          "output_type": "stream",
          "name": "stdout",
          "text": [
            "1   3   4   5   0   9   2   1   4   0   \n",
            "\n",
            "2   6   5   9   8   0   7   4   3   5   \n",
            "\n",
            "5   4   3   8   0   6   8   6   5   0   \n",
            "\n",
            "5   9   6   4   6   4   1   2   7   1   \n",
            "\n",
            "8   2   4   7   9   1   4   2   6   5   \n",
            "\n",
            "0   8   9   3   2   4   9   5   6   2   \n",
            "\n",
            "5   5   0   3   3   7   6   8   7   5   \n",
            "\n",
            "5   7   2   7   8   9   5   9   7   4   \n",
            "\n",
            "4   3   3   5   4   7   0   8   3   2   \n",
            "\n",
            "4   6   3   9   1   1   5   7   7   1   \n",
            "\n"
          ]
        }
      ]
    },
    {
      "cell_type": "code",
      "source": [
        "x = [0, 0, 0, 0, 0, 0, 0]\n",
        "\n",
        "print(x)"
      ],
      "metadata": {
        "colab": {
          "base_uri": "https://localhost:8080/"
        },
        "id": "YXqxcHKP7cJy",
        "outputId": "7d152774-10ab-4af7-a036-b96b38f2b21a"
      },
      "execution_count": 26,
      "outputs": [
        {
          "output_type": "stream",
          "name": "stdout",
          "text": [
            "[0, 0, 0, 0, 0, 0, 0]\n"
          ]
        }
      ]
    },
    {
      "cell_type": "code",
      "source": [
        "x = [0] * 6\n",
        "\n",
        "print(x)"
      ],
      "metadata": {
        "colab": {
          "base_uri": "https://localhost:8080/"
        },
        "id": "5ycAlqCB7q4p",
        "outputId": "147829e7-83be-4c38-dc83-b8ef7f25a4b3"
      },
      "execution_count": 27,
      "outputs": [
        {
          "output_type": "stream",
          "name": "stdout",
          "text": [
            "[0, 0, 0, 0, 0, 0]\n"
          ]
        }
      ]
    },
    {
      "cell_type": "code",
      "source": [
        "x = [0] * 100\n",
        "\n",
        "print(x)"
      ],
      "metadata": {
        "colab": {
          "base_uri": "https://localhost:8080/"
        },
        "id": "r7XqsqgN7vR8",
        "outputId": "f9b1a882-42b9-444c-a7bb-9e06d63a3bad"
      },
      "execution_count": 28,
      "outputs": [
        {
          "output_type": "stream",
          "name": "stdout",
          "text": [
            "[0, 0, 0, 0, 0, 0, 0, 0, 0, 0, 0, 0, 0, 0, 0, 0, 0, 0, 0, 0, 0, 0, 0, 0, 0, 0, 0, 0, 0, 0, 0, 0, 0, 0, 0, 0, 0, 0, 0, 0, 0, 0, 0, 0, 0, 0, 0, 0, 0, 0, 0, 0, 0, 0, 0, 0, 0, 0, 0, 0, 0, 0, 0, 0, 0, 0, 0, 0, 0, 0, 0, 0, 0, 0, 0, 0, 0, 0, 0, 0, 0, 0, 0, 0, 0, 0, 0, 0, 0, 0, 0, 0, 0, 0, 0, 0, 0, 0, 0, 0]\n"
          ]
        }
      ]
    }
  ]
}