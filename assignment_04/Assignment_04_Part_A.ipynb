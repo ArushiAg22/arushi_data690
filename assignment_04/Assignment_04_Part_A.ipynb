{
  "nbformat": 4,
  "nbformat_minor": 0,
  "metadata": {
    "colab": {
      "name": "Assignment_04_Part_A.ipynb",
      "provenance": [],
      "collapsed_sections": [],
      "authorship_tag": "ABX9TyNMbMJbQuNbhEjzOq2OwehA",
      "include_colab_link": true
    },
    "kernelspec": {
      "name": "python3",
      "display_name": "Python 3"
    },
    "language_info": {
      "name": "python"
    }
  },
  "cells": [
    {
      "cell_type": "markdown",
      "metadata": {
        "id": "view-in-github",
        "colab_type": "text"
      },
      "source": [
        "<a href=\"https://colab.research.google.com/github/ArushiAg22/arushi_data690/blob/main/assignment_04/Assignment_04_Part_A.ipynb\" target=\"_parent\"><img src=\"https://colab.research.google.com/assets/colab-badge.svg\" alt=\"Open In Colab\"/></a>"
      ]
    },
    {
      "cell_type": "markdown",
      "source": [
        "# **Assignment 04**\n",
        "\n",
        "### **Part A - Using Python**"
      ],
      "metadata": {
        "id": "XrHewOdBHCgu"
      }
    },
    {
      "cell_type": "markdown",
      "source": [
        "#### 1. Write code to open the text file census_costs.txt and read all lines into a list named \"line_list\". Print line_list."
      ],
      "metadata": {
        "id": "hqcC_eOgHJBb"
      }
    },
    {
      "cell_type": "code",
      "source": [
        "with open(\"census_costs.txt\", \"r\") as f:\n",
        "    line_list = f.readlines()\n",
        "\n",
        "line_list"
      ],
      "metadata": {
        "colab": {
          "base_uri": "https://localhost:8080/"
        },
        "id": "9_WxurSBHcrz",
        "outputId": "95e54e6f-c190-40ce-f22f-92c5a8ec9cb1"
      },
      "execution_count": 1,
      "outputs": [
        {
          "output_type": "execute_result",
          "data": {
            "text/plain": [
              "['Source: https://www.genealogybranches.com/censuscosts.html\\n',\n",
              " 'Census Year\\tTotal Population\\tCensus Cost\\tAverage Cost Per Person\\n',\n",
              " '1790\\t3,929,214\\t$44,377\\t1.13 cents\\n',\n",
              " '1800\\t5,308,483\\t$66,109\\t1.24 cents\\n',\n",
              " '1810\\t7,239,881\\t$178,445\\t2.46 cents\\n',\n",
              " '1820\\t9,633,822\\t$208,526\\t2.16 cents\\n',\n",
              " '1830\\t12,866,020\\t$378,545\\t2.94 cents\\n',\n",
              " '1840\\t17,069,458\\t$833,371\\t4.88 cents\\n',\n",
              " '1850\\t23,191,876\\t$1,423,351\\t6.14 cents\\n',\n",
              " '1860\\t31,443,321\\t$1,969,377\\t6.26 cents\\n',\n",
              " '1870\\t38,558,371\\t$3,421,198\\t8.87 cents\\n',\n",
              " '1880\\t50,155,783\\t$5,790,678\\t11.54 cents\\n',\n",
              " '1890\\t62,979,766\\t$11,547,127\\t18.33 cents\\n',\n",
              " '1900\\t76,303,387\\t$11,854,000\\t15.54 cents\\n',\n",
              " '1910\\t91,972,266\\t$15,968,000\\t17.07 cents\\n',\n",
              " '1920\\t105,710,620\\t$25,117,000\\t23.76 cents\\n',\n",
              " '1930\\t122,775,046\\t$40,156,000\\t32.71 cents\\n',\n",
              " '1940\\t131,669,275\\t$67,527,000\\t51.29 cents\\n',\n",
              " '1950\\t151,325,798\\t$91,462,000\\t60.44 cents\\n',\n",
              " '1960\\t179,323,175\\t$127,934,000\\t71.34 cents\\n',\n",
              " '1970\\t203,302,031\\t$247,653,000\\t$1.22\\n',\n",
              " '1980\\t226,542,199\\t$1,078,488,000\\t$4.76\\n',\n",
              " '1990\\t248,718,301\\t$2,492,830,000\\t$10.02\\n',\n",
              " '2000\\t281,421,906\\t$4.5 Billion\\t$15.99\\n',\n",
              " '2010*\\t308,745,538\\t$13 Billion\\t$42.11\\n']"
            ]
          },
          "metadata": {},
          "execution_count": 1
        }
      ]
    },
    {
      "cell_type": "markdown",
      "source": [
        "#### 2. Extract the first two lines and put them in a different list named \"top2_list\". You will need to use them later. Print the top2_list."
      ],
      "metadata": {
        "id": "xc9NXjDXHxtW"
      }
    },
    {
      "cell_type": "code",
      "source": [
        "top2_list = line_list[0:2]\n",
        "\n",
        "top2_list"
      ],
      "metadata": {
        "colab": {
          "base_uri": "https://localhost:8080/"
        },
        "id": "5cUuidVBICZs",
        "outputId": "18824b3a-e553-477f-a6e0-74256b225869"
      },
      "execution_count": 2,
      "outputs": [
        {
          "output_type": "execute_result",
          "data": {
            "text/plain": [
              "['Source: https://www.genealogybranches.com/censuscosts.html\\n',\n",
              " 'Census Year\\tTotal Population\\tCensus Cost\\tAverage Cost Per Person\\n']"
            ]
          },
          "metadata": {},
          "execution_count": 2
        }
      ]
    },
    {
      "cell_type": "markdown",
      "source": [
        "#### 3. Put the rest of the lines (containing useful data elements) in a new list named \"data_list\". Print data_list."
      ],
      "metadata": {
        "id": "uQ-SzvrNIFTK"
      }
    },
    {
      "cell_type": "code",
      "source": [
        "data_list = line_list[2:]\n",
        "\n",
        "data_list"
      ],
      "metadata": {
        "colab": {
          "base_uri": "https://localhost:8080/"
        },
        "id": "hEYt8NEOII1R",
        "outputId": "77b39fe9-cd5e-434e-b484-7002ca8cd7cc"
      },
      "execution_count": 3,
      "outputs": [
        {
          "output_type": "execute_result",
          "data": {
            "text/plain": [
              "['1790\\t3,929,214\\t$44,377\\t1.13 cents\\n',\n",
              " '1800\\t5,308,483\\t$66,109\\t1.24 cents\\n',\n",
              " '1810\\t7,239,881\\t$178,445\\t2.46 cents\\n',\n",
              " '1820\\t9,633,822\\t$208,526\\t2.16 cents\\n',\n",
              " '1830\\t12,866,020\\t$378,545\\t2.94 cents\\n',\n",
              " '1840\\t17,069,458\\t$833,371\\t4.88 cents\\n',\n",
              " '1850\\t23,191,876\\t$1,423,351\\t6.14 cents\\n',\n",
              " '1860\\t31,443,321\\t$1,969,377\\t6.26 cents\\n',\n",
              " '1870\\t38,558,371\\t$3,421,198\\t8.87 cents\\n',\n",
              " '1880\\t50,155,783\\t$5,790,678\\t11.54 cents\\n',\n",
              " '1890\\t62,979,766\\t$11,547,127\\t18.33 cents\\n',\n",
              " '1900\\t76,303,387\\t$11,854,000\\t15.54 cents\\n',\n",
              " '1910\\t91,972,266\\t$15,968,000\\t17.07 cents\\n',\n",
              " '1920\\t105,710,620\\t$25,117,000\\t23.76 cents\\n',\n",
              " '1930\\t122,775,046\\t$40,156,000\\t32.71 cents\\n',\n",
              " '1940\\t131,669,275\\t$67,527,000\\t51.29 cents\\n',\n",
              " '1950\\t151,325,798\\t$91,462,000\\t60.44 cents\\n',\n",
              " '1960\\t179,323,175\\t$127,934,000\\t71.34 cents\\n',\n",
              " '1970\\t203,302,031\\t$247,653,000\\t$1.22\\n',\n",
              " '1980\\t226,542,199\\t$1,078,488,000\\t$4.76\\n',\n",
              " '1990\\t248,718,301\\t$2,492,830,000\\t$10.02\\n',\n",
              " '2000\\t281,421,906\\t$4.5 Billion\\t$15.99\\n',\n",
              " '2010*\\t308,745,538\\t$13 Billion\\t$42.11\\n']"
            ]
          },
          "metadata": {},
          "execution_count": 3
        }
      ]
    },
    {
      "cell_type": "markdown",
      "source": [
        "#### 4. Extract the column \"Census Year\" from data_list and assign them to a list named year_list. Remove the \"*\" from the last element \"2010*\". Print the cleansed year_list."
      ],
      "metadata": {
        "id": "6F7989w5IXT2"
      }
    },
    {
      "cell_type": "code",
      "source": [
        "year_list = []\n",
        "\n",
        "for line in data_list:\n",
        "    year = line.split(\"\\t\")[0]                  # to take first part after the split since it will be year\n",
        "    \n",
        "    if \"*\" in year:\n",
        "        year = year.replace(\"*\", \"\")\n",
        "    \n",
        "    year_list.append(year)\n",
        "\n",
        "print(year_list)"
      ],
      "metadata": {
        "colab": {
          "base_uri": "https://localhost:8080/"
        },
        "id": "G3DbHVH5IcFe",
        "outputId": "72893f71-44a6-45f9-c909-da6d95923eab"
      },
      "execution_count": 4,
      "outputs": [
        {
          "output_type": "stream",
          "name": "stdout",
          "text": [
            "['1790', '1800', '1810', '1820', '1830', '1840', '1850', '1860', '1870', '1880', '1890', '1900', '1910', '1920', '1930', '1940', '1950', '1960', '1970', '1980', '1990', '2000', '2010']\n"
          ]
        }
      ]
    },
    {
      "cell_type": "markdown",
      "source": [
        "#### 5. Extract the \"Total Population\" column from the data_list and assign them to a list named \"pop_list\". Remove the \",\" from the numbers since Python doesn't recognize them. Print the cleansed \"pop_list\"."
      ],
      "metadata": {
        "id": "VGY3e8_2IpR4"
      }
    },
    {
      "cell_type": "code",
      "source": [
        "pop_list = []\n",
        "\n",
        "for line in data_list:\n",
        "    pop = line.split(\"\\t\")[1]                   # to take second part after the split since it will be population\n",
        "    \n",
        "    if \",\" in pop:\n",
        "        pop = pop.replace(\",\", \"\")\n",
        "    \n",
        "    pop_list.append(pop)\n",
        "\n",
        "print(pop_list)"
      ],
      "metadata": {
        "colab": {
          "base_uri": "https://localhost:8080/"
        },
        "id": "nqga6pM_Iu49",
        "outputId": "d3f15fca-9d24-45c0-bc65-2c3c48c3a807"
      },
      "execution_count": 5,
      "outputs": [
        {
          "output_type": "stream",
          "name": "stdout",
          "text": [
            "['3929214', '5308483', '7239881', '9633822', '12866020', '17069458', '23191876', '31443321', '38558371', '50155783', '62979766', '76303387', '91972266', '105710620', '122775046', '131669275', '151325798', '179323175', '203302031', '226542199', '248718301', '281421906', '308745538']\n"
          ]
        }
      ]
    },
    {
      "cell_type": "markdown",
      "source": [
        "#### 6. Extract the \"Census Cost\" column from the data_list and assign them to a list named \"cost_list\". Remove the \",\", and \"$\", and \"Billion\". Make sure to add the \"0\"s to the numbers from which you removed \"Billion\". Print the cleansed cost_list."
      ],
      "metadata": {
        "id": "l8daIuUJJiiA"
      }
    },
    {
      "cell_type": "code",
      "source": [
        "cost_list = []\n",
        "\n",
        "for line in data_list:\n",
        "    cost = line.split(\"\\t\")[2]                  # to take third part after the split since it will be total cost\n",
        "    \n",
        "    if \"$\" in cost:\n",
        "        cost = cost.replace(\"$\", \"\")\n",
        "    if \",\" in cost:\n",
        "        cost = cost.replace(\",\", \"\")\n",
        "    if \"Billion\" in cost:\n",
        "        cost = cost.replace(\" Billion\", \"\")\n",
        "        cost = float(cost) * 1000000000\n",
        "    \n",
        "    cost_list.append(cost)\n",
        "\n",
        "print(cost_list)"
      ],
      "metadata": {
        "colab": {
          "base_uri": "https://localhost:8080/"
        },
        "id": "7tw9RuNmJnes",
        "outputId": "a336389a-6941-4c24-e332-a3da49742363"
      },
      "execution_count": 6,
      "outputs": [
        {
          "output_type": "stream",
          "name": "stdout",
          "text": [
            "['44377', '66109', '178445', '208526', '378545', '833371', '1423351', '1969377', '3421198', '5790678', '11547127', '11854000', '15968000', '25117000', '40156000', '67527000', '91462000', '127934000', '247653000', '1078488000', '2492830000', 4500000000.0, 13000000000.0]\n"
          ]
        }
      ]
    },
    {
      "cell_type": "markdown",
      "source": [
        "#### 7. Extract the \"Average Cost per Person\" column from the data_list and assign them to a list named \"avg_list\". Remove the \"cents\", and \"$\". Make sure to divide the numbers in cents by 100 so that all numbers are measured in dollar. Print the cleansed avg_list."
      ],
      "metadata": {
        "id": "8eBU85K1L_Xa"
      }
    },
    {
      "cell_type": "code",
      "source": [
        "avg_list = []\n",
        "\n",
        "for line in data_list:\n",
        "    avg = line.split(\"\\t\")[3]                  # to take fourth part after the split since it will be average cost per person\n",
        "    avg = avg.replace(\"\\n\", \"\")                # to remove new line character from the end\n",
        "    \n",
        "    if \"$\" in avg:\n",
        "        avg = avg.replace(\"$\", \"\")\n",
        "    if \",\" in avg:\n",
        "        avg = avg.replace(\",\", \"\")\n",
        "    if \"cents\" in avg:\n",
        "        avg = avg.replace(\" cents\", \"\")\n",
        "        avg = float(avg) / 100\n",
        "        avg = round(avg, 4)\n",
        "    \n",
        "    avg_list.append(avg)\n",
        "\n",
        "print(avg_list)"
      ],
      "metadata": {
        "colab": {
          "base_uri": "https://localhost:8080/"
        },
        "id": "WlAFpgUNMETn",
        "outputId": "a08d70b7-f207-4704-a7c7-10d9bc3c750e"
      },
      "execution_count": 7,
      "outputs": [
        {
          "output_type": "stream",
          "name": "stdout",
          "text": [
            "[0.0113, 0.0124, 0.0246, 0.0216, 0.0294, 0.0488, 0.0614, 0.0626, 0.0887, 0.1154, 0.1833, 0.1554, 0.1707, 0.2376, 0.3271, 0.5129, 0.6044, 0.7134, '1.22', '4.76', '10.02', '15.99', '42.11']\n"
          ]
        }
      ]
    },
    {
      "cell_type": "markdown",
      "source": [
        "#### 8. Coalesce the cleansed data and save them to a text file named \"census_cost.csv\". The new file should look similar to the original source file except that it is in comma-delimited format and the numbers have been cleansed. The top two lines from the original file should be retained in the new file."
      ],
      "metadata": {
        "id": "4HKNkD-JOLqD"
      }
    },
    {
      "cell_type": "code",
      "source": [
        "with open(\"census_cost.csv\", \"w\") as fw:\n",
        "    for ele in top2_list:\n",
        "        fw.write(ele)\n",
        "    \n",
        "    for ele in zip(year_list, pop_list, cost_list, avg_list):\n",
        "        fw.write(\"{0}\\t{1}\\t{2}\\t{3}\\n\".format(*ele))\n",
        "\n",
        "    # for index in range(len(year_list)):\n",
        "    #     fw.write(str(year_list[index]) + \"\\t\" + str(pop_list[index]) + \"\\t\" + str(cost_list[index]) + \"\\t\" + str(avg_list[index]) + \"\\n\")\n",
        "\n",
        "fw.close()"
      ],
      "metadata": {
        "id": "o64anlUYOQ2a"
      },
      "execution_count": 8,
      "outputs": []
    },
    {
      "cell_type": "markdown",
      "source": [
        "#### 9. Write code to open the newly-created file \"census_cost.csv\", read all lines and display them. How does it look?"
      ],
      "metadata": {
        "id": "NNwHjGSZXKrg"
      }
    },
    {
      "cell_type": "code",
      "source": [
        "with open(\"census_cost.csv\", \"r\") as fr:\n",
        "    lines = fr.readlines()\n",
        "\n",
        "lines"
      ],
      "metadata": {
        "colab": {
          "base_uri": "https://localhost:8080/"
        },
        "id": "9TWmwRUBXPIz",
        "outputId": "d375b778-1d24-4680-864d-8064a96cb42a"
      },
      "execution_count": 9,
      "outputs": [
        {
          "output_type": "execute_result",
          "data": {
            "text/plain": [
              "['Source: https://www.genealogybranches.com/censuscosts.html\\n',\n",
              " 'Census Year\\tTotal Population\\tCensus Cost\\tAverage Cost Per Person\\n',\n",
              " '1790\\t3929214\\t44377\\t0.0113\\n',\n",
              " '1800\\t5308483\\t66109\\t0.0124\\n',\n",
              " '1810\\t7239881\\t178445\\t0.0246\\n',\n",
              " '1820\\t9633822\\t208526\\t0.0216\\n',\n",
              " '1830\\t12866020\\t378545\\t0.0294\\n',\n",
              " '1840\\t17069458\\t833371\\t0.0488\\n',\n",
              " '1850\\t23191876\\t1423351\\t0.0614\\n',\n",
              " '1860\\t31443321\\t1969377\\t0.0626\\n',\n",
              " '1870\\t38558371\\t3421198\\t0.0887\\n',\n",
              " '1880\\t50155783\\t5790678\\t0.1154\\n',\n",
              " '1890\\t62979766\\t11547127\\t0.1833\\n',\n",
              " '1900\\t76303387\\t11854000\\t0.1554\\n',\n",
              " '1910\\t91972266\\t15968000\\t0.1707\\n',\n",
              " '1920\\t105710620\\t25117000\\t0.2376\\n',\n",
              " '1930\\t122775046\\t40156000\\t0.3271\\n',\n",
              " '1940\\t131669275\\t67527000\\t0.5129\\n',\n",
              " '1950\\t151325798\\t91462000\\t0.6044\\n',\n",
              " '1960\\t179323175\\t127934000\\t0.7134\\n',\n",
              " '1970\\t203302031\\t247653000\\t1.22\\n',\n",
              " '1980\\t226542199\\t1078488000\\t4.76\\n',\n",
              " '1990\\t248718301\\t2492830000\\t10.02\\n',\n",
              " '2000\\t281421906\\t4500000000.0\\t15.99\\n',\n",
              " '2010\\t308745538\\t13000000000.0\\t42.11\\n']"
            ]
          },
          "metadata": {},
          "execution_count": 9
        }
      ]
    }
  ]
}