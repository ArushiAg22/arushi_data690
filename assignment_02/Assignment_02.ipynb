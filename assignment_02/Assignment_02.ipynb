{
  "nbformat": 4,
  "nbformat_minor": 0,
  "metadata": {
    "colab": {
      "name": "Assignment_02.ipynb",
      "provenance": [],
      "authorship_tag": "ABX9TyOL/LqXEMAkBYOyWZNqyKPY",
      "include_colab_link": true
    },
    "kernelspec": {
      "name": "python3",
      "display_name": "Python 3"
    },
    "language_info": {
      "name": "python"
    }
  },
  "cells": [
    {
      "cell_type": "markdown",
      "metadata": {
        "id": "view-in-github",
        "colab_type": "text"
      },
      "source": [
        "<a href=\"https://colab.research.google.com/github/ArushiAg22/arushi_data690/blob/main/assignment_02/Assignment_02.ipynb\" target=\"_parent\"><img src=\"https://colab.research.google.com/assets/colab-badge.svg\" alt=\"Open In Colab\"/></a>"
      ]
    },
    {
      "cell_type": "markdown",
      "source": [
        "# Assignment 02\n",
        "\n",
        "**Program to input 10 integers from user and calculate Minimum, Maximum, Range, Mean, Variance, Standard Deviation of those numbers.**"
      ],
      "metadata": {
        "id": "JuvwByAMNFCn"
      }
    },
    {
      "cell_type": "markdown",
      "source": [
        "## Step - 1\n",
        "\n",
        "Get 10 integer inputs from user."
      ],
      "metadata": {
        "id": "PfITXuJpNwuq"
      }
    },
    {
      "cell_type": "code",
      "source": [
        "i = 0\n",
        "lis = []\n",
        "\n",
        "while i < 10:          # Loop to ensure 10 numbers are inputted\n",
        "    x = input(\"Please enter an integer:\")\n",
        "    try:              # try block to ensure user entered integers only\n",
        "        y = int(x)\n",
        "        lis.append(y)\n",
        "        i = i + 1\n",
        "    except:\n",
        "        print(\"You did not input a valid integer. Only integer is allowed.\")\n",
        "        continue"
      ],
      "metadata": {
        "colab": {
          "base_uri": "https://localhost:8080/"
        },
        "id": "n0KuqiVtNOoK",
        "outputId": "a6761103-6daa-4cb1-b317-f627657aac5a"
      },
      "execution_count": 1,
      "outputs": [
        {
          "name": "stdout",
          "output_type": "stream",
          "text": [
            "Please enter an integer:1\n",
            "Please enter an integer:2\n",
            "Please enter an integer:3\n",
            "Please enter an integer:4\n",
            "Please enter an integer:5\n",
            "Please enter an integer:6\n",
            "Please enter an integer:7\n",
            "Please enter an integer:8\n",
            "Please enter an integer:9\n",
            "Please enter an integer:10\n"
          ]
        }
      ]
    },
    {
      "cell_type": "markdown",
      "source": [
        "## Step - 2\n",
        "\n",
        "Display the numbers entered by user"
      ],
      "metadata": {
        "id": "JfQad_SaOpL8"
      }
    },
    {
      "cell_type": "code",
      "source": [
        "print(\"You have entered following numbers:\")\n",
        "for i in range(len(lis)):       # for loop to print numbers in the list one-by-one\n",
        "    print(lis[i])"
      ],
      "metadata": {
        "colab": {
          "base_uri": "https://localhost:8080/"
        },
        "id": "691Qp-GXOyDn",
        "outputId": "dd4cdaad-d991-4495-cf40-bfca63510a87"
      },
      "execution_count": 2,
      "outputs": [
        {
          "output_type": "stream",
          "name": "stdout",
          "text": [
            "You have entered following numbers:\n",
            "1\n",
            "2\n",
            "3\n",
            "4\n",
            "5\n",
            "6\n",
            "7\n",
            "8\n",
            "9\n",
            "10\n"
          ]
        }
      ]
    },
    {
      "cell_type": "markdown",
      "source": [
        "## Step - 3\n",
        "\n",
        "Calculate Minimum, Maximum, Range, Mean, Variance, Standard Deviation of inputted numbers."
      ],
      "metadata": {
        "id": "VDDfBaHbPGH7"
      }
    },
    {
      "cell_type": "markdown",
      "source": [
        "**Calculate Minimum**"
      ],
      "metadata": {
        "id": "0fZBjBs6Sa5k"
      }
    },
    {
      "cell_type": "code",
      "source": [
        "index = 0\n",
        "min = lis[index]\n",
        "\n",
        "while index < 10:              # Loop to compare all the numbers to find minimum\n",
        "    if min > lis[index]:\n",
        "        min = lis[index]\n",
        "    index = index + 1\n",
        "\n",
        "print(\"Minimum Number is:\", min)\n"
      ],
      "metadata": {
        "colab": {
          "base_uri": "https://localhost:8080/"
        },
        "id": "HETAnXSQPaPA",
        "outputId": "c7e30a32-6016-43df-9bbd-2ae754fd6050"
      },
      "execution_count": 3,
      "outputs": [
        {
          "output_type": "stream",
          "name": "stdout",
          "text": [
            "Minimum Number is: 1\n"
          ]
        }
      ]
    },
    {
      "cell_type": "markdown",
      "source": [
        "**Calculate Maximum**"
      ],
      "metadata": {
        "id": "whAIO-ijR26-"
      }
    },
    {
      "cell_type": "code",
      "source": [
        "index = 0\n",
        "max = lis[index]\n",
        "\n",
        "while index < 10:              # Loop to compare all the numbers to find maximum\n",
        "    if max < lis[index]:\n",
        "        max = lis[index]\n",
        "    index = index + 1\n",
        "\n",
        "print(\"Maximum Number is:\", max)"
      ],
      "metadata": {
        "colab": {
          "base_uri": "https://localhost:8080/"
        },
        "id": "gx1IPjyFSB-P",
        "outputId": "6c9b8dda-5cfa-412b-831e-2abec926400c"
      },
      "execution_count": 4,
      "outputs": [
        {
          "output_type": "stream",
          "name": "stdout",
          "text": [
            "Maximum Number is: 10\n"
          ]
        }
      ]
    },
    {
      "cell_type": "markdown",
      "source": [
        "**Calculate Range**"
      ],
      "metadata": {
        "id": "4RhuiCUVSEdt"
      }
    },
    {
      "cell_type": "code",
      "source": [
        "num_range = max - min         # Range is difference between Maximum and Minimum number\n",
        "\n",
        "print(\"Range of the inputted numbers:\", num_range)"
      ],
      "metadata": {
        "colab": {
          "base_uri": "https://localhost:8080/"
        },
        "id": "RgeyersISKdo",
        "outputId": "81a3cbea-0ac6-4b14-d100-436c1ba2fad9"
      },
      "execution_count": 5,
      "outputs": [
        {
          "output_type": "stream",
          "name": "stdout",
          "text": [
            "Range of the inputted numbers: 9\n"
          ]
        }
      ]
    },
    {
      "cell_type": "markdown",
      "source": [
        "**Calculate Mean**"
      ],
      "metadata": {
        "id": "Nnf3VufZSKxM"
      }
    },
    {
      "cell_type": "code",
      "source": [
        "add = 0\n",
        "\n",
        "for i in range(len(lis)):       # for loop to get the sum of numbers in the list\n",
        "    add = add + lis[i]\n",
        "\n",
        "mean = add/len(lis)\n",
        "\n",
        "print(\"Mean of the inputted numbers is:\", mean)"
      ],
      "metadata": {
        "colab": {
          "base_uri": "https://localhost:8080/"
        },
        "id": "5bUjxhN2SOTs",
        "outputId": "060a74c0-2324-4080-fe4c-3536d6b666ef"
      },
      "execution_count": 6,
      "outputs": [
        {
          "output_type": "stream",
          "name": "stdout",
          "text": [
            "Mean of the inputted numbers is: 5.5\n"
          ]
        }
      ]
    },
    {
      "cell_type": "markdown",
      "source": [
        "**Calculate Variance**"
      ],
      "metadata": {
        "id": "3NOy9UOySOyi"
      }
    },
    {
      "cell_type": "code",
      "source": [
        "sum = 0\n",
        "\n",
        "for i in range(len(lis)):        # for loop to get the sum of squared differences from the mean\n",
        "    sum = sum + (lis[i] - mean)**2\n",
        "\n",
        "var = sum/len(lis)\n",
        "\n",
        "print(\"Vaiance of the numbers is:\", var)"
      ],
      "metadata": {
        "colab": {
          "base_uri": "https://localhost:8080/"
        },
        "id": "_pSOkfPCSTpw",
        "outputId": "e05fe172-febc-456c-d916-ddbf58dd3823"
      },
      "execution_count": 7,
      "outputs": [
        {
          "output_type": "stream",
          "name": "stdout",
          "text": [
            "Vaiance of the numbers is: 8.25\n"
          ]
        }
      ]
    },
    {
      "cell_type": "markdown",
      "source": [
        "**Calculate Standard Deviation**"
      ],
      "metadata": {
        "id": "CCofmFuZST4K"
      }
    },
    {
      "cell_type": "code",
      "source": [
        "sd = var**0.5                    # Standard deviation is square root of variance\n",
        "\n",
        "print(\"Standard Deviation is:\", sd)"
      ],
      "metadata": {
        "colab": {
          "base_uri": "https://localhost:8080/"
        },
        "id": "dgVx49RCSZO6",
        "outputId": "5bf07f39-3fd9-4e60-aeb0-85cb99fee7ca"
      },
      "execution_count": 8,
      "outputs": [
        {
          "output_type": "stream",
          "name": "stdout",
          "text": [
            "Standard Deviation is: 2.8722813232690143\n"
          ]
        }
      ]
    }
  ]
}