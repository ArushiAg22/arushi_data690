{
  "nbformat": 4,
  "nbformat_minor": 0,
  "metadata": {
    "colab": {
      "name": "assignment_01.ipynb",
      "provenance": [],
      "authorship_tag": "ABX9TyMHg1saHa/N1ptVySXlfcY+",
      "include_colab_link": true
    },
    "kernelspec": {
      "name": "python3",
      "display_name": "Python 3"
    },
    "language_info": {
      "name": "python"
    }
  },
  "cells": [
    {
      "cell_type": "markdown",
      "metadata": {
        "id": "view-in-github",
        "colab_type": "text"
      },
      "source": [
        "<a href=\"https://colab.research.google.com/github/ArushiAg22/arushi_data690/blob/main/assignment_01.ipynb\" target=\"_parent\"><img src=\"https://colab.research.google.com/assets/colab-badge.svg\" alt=\"Open In Colab\"/></a>"
      ]
    },
    {
      "cell_type": "code",
      "execution_count": null,
      "metadata": {
        "id": "dtm9W0bsE50M"
      },
      "outputs": [],
      "source": [
        ""
      ]
    },
    {
      "cell_type": "markdown",
      "source": [
        "# Data 690 In-class Practice\n",
        "\n",
        "- Name : **Arushi Agarwal**\n",
        "- Date: **01/31/2022**\n",
        "- Session: **01**\n"
      ],
      "metadata": {
        "id": "Ls_dw1fhFWWb"
      }
    },
    {
      "cell_type": "code",
      "source": [
        "print(\"Hello World!\")"
      ],
      "metadata": {
        "colab": {
          "base_uri": "https://localhost:8080/"
        },
        "id": "yRbddM7eGCg6",
        "outputId": "c5d88155-e7cf-48dd-df50-96b3f42c8aea"
      },
      "execution_count": 1,
      "outputs": [
        {
          "output_type": "stream",
          "name": "stdout",
          "text": [
            "Hello World!\n"
          ]
        }
      ]
    },
    {
      "cell_type": "code",
      "source": [
        "x = 10\n",
        "y = 20\n",
        "z = x + y\n",
        "print (\"z =\",z)"
      ],
      "metadata": {
        "colab": {
          "base_uri": "https://localhost:8080/"
        },
        "id": "OJwTpKo3GRX8",
        "outputId": "cf031537-ddc9-4b87-fcf9-56894e76e43c"
      },
      "execution_count": 4,
      "outputs": [
        {
          "output_type": "stream",
          "name": "stdout",
          "text": [
            "z = 30\n"
          ]
        }
      ]
    }
  ]
}